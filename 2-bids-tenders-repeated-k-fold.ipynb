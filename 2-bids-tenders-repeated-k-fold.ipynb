{
 "cells": [
  {
   "cell_type": "code",
   "execution_count": null,
   "id": "0b9ec869-0d8a-46b6-bf3f-829f283f0ccd",
   "metadata": {},
   "outputs": [],
   "source": [
    "import time\n",
    "from joblib import Parallel, delayed\n",
    "\n",
    "import pandas as pd\n",
    "import numpy as np\n",
    "import category_encoders as ce\n",
    "\n",
    "from sklearn.ensemble import ExtraTreesClassifier, RandomForestClassifier, AdaBoostClassifier, GradientBoostingClassifier\n",
    "from sklearn.neural_network import MLPClassifier\n",
    "from sklearn.tree import DecisionTreeClassifier\n",
    "\n",
    "from sklearn.model_selection import RandomizedSearchCV, GroupKFold\n",
    "from sklearn.utils import shuffle\n",
    "from sklearn import preprocessing, pipeline\n",
    "\n",
    "from sklearn.metrics import accuracy_score, precision_score, recall_score, balanced_accuracy_score, f1_score"
   ]
  },
  {
   "cell_type": "code",
   "execution_count": null,
   "id": "a93fe19d-645c-47b1-b666-c8066a1dedd0",
   "metadata": {
    "tags": []
   },
   "outputs": [],
   "source": [
    "#Original dataset\n",
    "data = pd.read_json(r'original-dataset.json', orient='split')\n",
    "\n",
    "# Original dataset without tenders with partial collusion\n",
    "data = pd.read_json(r'original-dataset-without-partials.json', orient='split')\n",
    "\n",
    "cat_features = ['Site', 'Brazilian State']"
   ]
  },
  {
   "cell_type": "code",
   "execution_count": null,
   "id": "adf20c40-85c5-4a44-97fd-a4cbc7d70241",
   "metadata": {},
   "outputs": [],
   "source": [
    "# #Enriched dataset\n",
    "# data = pd.read_json(r'enriched-dataset.json', orient='split')\n",
    "\n",
    "# # Enriched dataset without tenders with partial collusion\n",
    "# data = pd.read_json(r'enriched-dataset-without-partials.json', orient='split')\n",
    "\n",
    "# cat_features = ['Site', 'Brazilian State', 'natureza_juridica']"
   ]
  },
  {
   "cell_type": "code",
   "execution_count": null,
   "id": "a08ea82a-832e-41d6-af89-de9e44100874",
   "metadata": {},
   "outputs": [],
   "source": [
    "data['Difference Bid/PTE'] = data['Bid_value'] - data['Pre-Tender Estimate (PTE)']"
   ]
  },
  {
   "cell_type": "code",
   "execution_count": null,
   "id": "0100ffbb-e3b6-4e63-9044-1d7b01b411e2",
   "metadata": {
    "tags": []
   },
   "outputs": [],
   "source": [
    "encoders = [\n",
    "    ce.BinaryEncoder(cols = cat_features, handle_unknown = 'value', return_df = True),\n",
    "    ce.QuantileEncoder(cols = cat_features, handle_unknown = 'value', return_df = True),\n",
    "    ce.OneHotEncoder(cols = cat_features, handle_unknown = 'value', return_df = True),\n",
    "    ce.RankHotEncoder(cols = cat_features, handle_unknown = 'value', return_df = True),\n",
    "    ce.HashingEncoder(cols = cat_features, return_df = True),\n",
    "    ce.CountEncoder(cols = cat_features, handle_unknown = 'value', return_df = True)\n",
    "]"
   ]
  },
  {
   "cell_type": "code",
   "execution_count": null,
   "id": "e9ca8314-7ac0-4fac-9108-e40b450b1609",
   "metadata": {
    "tags": []
   },
   "outputs": [],
   "source": [
    "scalers = [\n",
    "    preprocessing.StandardScaler(),\n",
    "    preprocessing.MinMaxScaler(),\n",
    "    preprocessing.MaxAbsScaler(),\n",
    "    preprocessing.RobustScaler(quantile_range=(25,75)),\n",
    "    preprocessing.PowerTransformer(method='yeo-johnson'),\n",
    "    preprocessing.QuantileTransformer(output_distribution='uniform'),\n",
    "    preprocessing.QuantileTransformer(output_distribution='normal'),\n",
    "]"
   ]
  },
  {
   "cell_type": "code",
   "execution_count": null,
   "id": "22189044-d1d3-4faa-b7c7-1fcec18dbf39",
   "metadata": {
    "tags": []
   },
   "outputs": [],
   "source": [
    "models = {\n",
    "    ExtraTreesClassifier(): {\n",
    "        'estimator__n_estimators': np.linspace(50, 300, num = 10, dtype = int),\n",
    "        'estimator__max_features': ['auto', 'sqrt', 'log2', None],\n",
    "        'estimator__criterion': ['gini', 'entropy', 'log_loss'],\n",
    "        'estimator__min_samples_split': np.linspace(2, 20, num = 8, dtype = int),\n",
    "        'encoder': encoders,\n",
    "        'scaler': scalers\n",
    "    },\n",
    "    RandomForestClassifier(): {\n",
    "        'estimator__n_estimators': np.linspace(50, 500, num = 10, dtype = int),\n",
    "        'estimator__criterion': ['gini', 'entropy', 'log_loss'],\n",
    "        'estimator__max_features': ['sqrt', 'log2', None],\n",
    "        'estimator__min_samples_split': np.linspace(2, 20, num = 10, dtype = int),\n",
    "        'encoder': encoders,\n",
    "        'scaler': scalers\n",
    "    },\n",
    "    AdaBoostClassifier(): {\n",
    "        'estimator__estimator': [DecisionTreeClassifier(max_depth=1), DecisionTreeClassifier(max_depth=3), DecisionTreeClassifier(max_depth=6), DecisionTreeClassifier(max_depth=10)],\n",
    "        'estimator__n_estimators': np.linspace(50, 500, num = 10, dtype = int),\n",
    "        'estimator__learning_rate': np.linspace(0.01, 1.0, num = 10, dtype = float),\n",
    "        'encoder': encoders,\n",
    "        'scaler': scalers\n",
    "    },\n",
    "    GradientBoostingClassifier(): {\n",
    "        'estimator__n_estimators': np.linspace(50, 200, num = 4, dtype = int),\n",
    "        'estimator__learning_rate': np.linspace(0.01, 1.0, num = 10, dtype = float),\n",
    "        'estimator__max_depth': np.linspace(3, 10, num = 4, dtype = int),\n",
    "        'encoder': encoders,\n",
    "        'scaler': scalers\n",
    "    },\n",
    "    MLPClassifier(): {\n",
    "        'estimator__hidden_layer_sizes': [(256,), (384,), (512,), (640,), (768,), (1024,)],\n",
    "        'estimator__activation': ['identity', 'logistic', 'tanh', 'relu'],\n",
    "        'estimator__solver': ['lbfgs', 'sgd', 'adam'],\n",
    "        'estimator__max_iter': np.linspace(500, 1000, num = 15, dtype = int),\n",
    "        'encoder': encoders,\n",
    "        'scaler': scalers\n",
    "    }\n",
    "}"
   ]
  },
  {
   "cell_type": "code",
   "execution_count": null,
   "id": "4cb0f6c7-9000-4445-a81e-3cb196c0f7b8",
   "metadata": {
    "tags": []
   },
   "outputs": [],
   "source": [
    "def model_fit_eval(df, model, param_grid):\n",
    "    evaldf = pd.DataFrame([])\n",
    "    \n",
    "    for seed in range(1, 11):\n",
    "    \n",
    "        predictors = shuffle(data, random_state = 0).reset_index(drop=True)\n",
    "        targets = predictors.pop('Collusive_competitor')\n",
    "\n",
    "        groups = predictors.pop('Tender')\n",
    "\n",
    "        model.random_state = seed\n",
    "    \n",
    "        steps = [\n",
    "            ('encoder', ce.OneHotEncoder(cols = cat_features, handle_unknown = 'value', return_df = True)),\n",
    "            ('scaler', preprocessing.StandardScaler()), \n",
    "            ('estimator', model)\n",
    "        ]\n",
    "\n",
    "        pipe = pipeline.Pipeline(steps)\n",
    "\n",
    "        cv = GroupKFold(n_splits = 5)\n",
    "\n",
    "        search = RandomizedSearchCV(\n",
    "            pipe, \n",
    "            param_grid,\n",
    "            cv = cv,\n",
    "            n_iter = 50,\n",
    "            scoring=['accuracy','balanced_accuracy', 'precision', 'recall', 'f1'],\n",
    "            refit = 'balanced_accuracy', \n",
    "            random_state = seed,\n",
    "            n_jobs = -2\n",
    "        )\n",
    "\n",
    "        results = search.fit(predictors, targets, groups = groups)\n",
    "\n",
    "        rf = pd.DataFrame(results.cv_results_)\n",
    "\n",
    "        rf['seed'] = seed\n",
    "        rf['best_index'] = results.best_index_\n",
    "        rf['model'] = model.__class__.__name__.replace('Classifier', '')\n",
    "\n",
    "        evaldf = pd.concat([evaldf, rf], ignore_index=True)\n",
    "        \n",
    "    return evaldf"
   ]
  },
  {
   "cell_type": "code",
   "execution_count": null,
   "id": "6e40497a-7283-4455-a92c-89b9ecf784f3",
   "metadata": {
    "tags": []
   },
   "outputs": [],
   "source": [
    "start_time = time.time()\n",
    "result = Parallel(n_jobs=-2)(delayed(model_fit_eval)(data, model, models[model]) for model in models)\n",
    "total = time.time() - start_time"
   ]
  },
  {
   "cell_type": "code",
   "execution_count": null,
   "id": "99bd2df4-e87b-4761-9d05-e218de62e6f9",
   "metadata": {
    "tags": []
   },
   "outputs": [],
   "source": [
    "total/60"
   ]
  },
  {
   "cell_type": "code",
   "execution_count": null,
   "id": "49b80889-ae12-4a7c-8811-2f3be796273e",
   "metadata": {
    "tags": []
   },
   "outputs": [],
   "source": [
    "data_eval_all = pd.DataFrame([])"
   ]
  },
  {
   "cell_type": "code",
   "execution_count": null,
   "id": "f5bb674d-c7c3-4fd3-a2d6-de28f051f65d",
   "metadata": {
    "tags": []
   },
   "outputs": [],
   "source": [
    "for r in result:\n",
    "    data_eval_all = pd.concat([data_eval_all, r], ignore_index=True)"
   ]
  },
  {
   "cell_type": "code",
   "execution_count": null,
   "id": "bd842631-9ec7-4163-937e-a222bfb12808",
   "metadata": {},
   "outputs": [],
   "source": []
  }
 ],
 "metadata": {
  "kernelspec": {
   "display_name": "Python 3 (ipykernel)",
   "language": "python",
   "name": "python3"
  },
  "language_info": {
   "codemirror_mode": {
    "name": "ipython",
    "version": 3
   },
   "file_extension": ".py",
   "mimetype": "text/x-python",
   "name": "python",
   "nbconvert_exporter": "python",
   "pygments_lexer": "ipython3",
   "version": "3.11.8"
  }
 },
 "nbformat": 4,
 "nbformat_minor": 5
}
